{
 "cells": [
  {
   "cell_type": "markdown",
   "metadata": {
    "id": "11eNNakJFQLr"
   },
   "source": [
    "# Analisis de datos\n",
    "## Introducción a Python II\n",
    "## Índice:\n",
    "\n",
    "1. [Condicionales](#Ejercicios-con-condicionales)\n",
    "2. [Ciclos](#Ejercicios-con-Ciclos)\n",
    "3. [Funciones](#Ejercicios-con-funciones)\n",
    "4. [Ejercicios Extras](#Ejercicios-Extras)\n",
    "\n",
    "\n",
    "<b>Nota:</b>\n",
    "Esta práctica contiene ejercicios que cubren los diferentes temas vistos en la intrudicción de Python como lenguaje de programación. En las celdas de código, donde vea $<CODIGO>$, debera completar con el código que resuelva lo que se pide. En la mayoria de los ejercicios se debera recurrir a las referencias técnicas para resolver los enunciados. Bajo cada seccion esta el link a las referencias oficiales de python, sin embargo no dude en usar otras fuentes.\n",
    "\n",
    "<hr>\n",
    "\n",
    "## Ejercicios con condicionales</b>\n",
    "referencias: https://www.w3schools.com/python/python_conditions.asp\n"
   ]
  },
  {
   "cell_type": "markdown",
   "metadata": {
    "id": "Ee3I3_WgFQLz"
   },
   "source": [
    "1. Programa el comportamiento de un modulo de un numero, es decir, si el numero es negativo le cambia el signo. Si el numero es positivo lo deja tal como esta"
   ]
  },
  {
   "cell_type": "code",
   "execution_count": 79,
   "metadata": {
    "id": "aR-6ARbVFQLz"
   },
   "outputs": [
    {
     "name": "stdout",
     "output_type": "stream",
     "text": [
      "some random values: [10, 9, 8, 7, 6, 5, 4, 3, 2, 1, 0, 1, 2, 3, 4]\n"
     ]
    }
   ],
   "source": [
    " def foo(a):\n",
    "  if a < 0:\n",
    "    return a*-1\n",
    "  return a\n",
    "  \n",
    "print(\"some random values:\", [foo(num) for num in range(-10,5)])\n"
   ]
  },
  {
   "cell_type": "markdown",
   "metadata": {
    "id": "yednlXB2FQL0"
   },
   "source": [
    "2. El siguiente codigo imprime por pantalla si un numero es divisible por otro. Este codigo tiene un error, descubralo y arreglelo."
   ]
  },
  {
   "cell_type": "code",
   "execution_count": 80,
   "metadata": {
    "id": "G3ud9PyrFQL0"
   },
   "outputs": [
    {
     "name": "stdout",
     "output_type": "stream",
     "text": [
      "5 divide a  10\n"
     ]
    }
   ],
   "source": [
    "#@title Es divisible? {run: 'auto'}\n",
    "\n",
    "a = 10 #@param {type:\"slider\", min:0, max:15, step:1}\n",
    "b = 5 #@param {type:\"slider\", min:0, max:15, step:1}\n",
    "\n",
    "if a%b == 0:\n",
    "    print(b,'divide a ',a)\n",
    "else:\n",
    "    print(b,'NO divide a ',a)\n"
   ]
  },
  {
   "cell_type": "markdown",
   "metadata": {
    "id": "ENPyyPqcDtCX"
   },
   "source": [
    "***--> justifique***"
   ]
  },
  {
   "cell_type": "markdown",
   "metadata": {
    "id": "Y8RGQzGwFQL1"
   },
   "source": [
    "3. Escriba un código que imprima por pantalla si un numero es divisible por 3 y por 2. Debe imprimir todas las condiciones posibles, es decir, si es divisible por uno y no por el otro."
   ]
  },
  {
   "cell_type": "code",
   "execution_count": 81,
   "metadata": {
    "id": "-ISewtpgFQL1"
   },
   "outputs": [
    {
     "name": "stdout",
     "output_type": "stream",
     "text": [
      "137 is not divisible by 2 or 3\n",
      "582 is divisble by 2 and 3\n",
      "867 is divisble by 3\n",
      "821 is not divisible by 2 or 3\n",
      "782 is divisble by 2\n",
      "64 is divisble by 2\n",
      "261 is divisble by 3\n",
      "120 is divisble by 2 and 3\n",
      "507 is divisble by 3\n",
      "779 is not divisible by 2 or 3\n"
     ]
    }
   ],
   "source": [
    "from random import seed, randint\n",
    "seed(1)\n",
    "\n",
    "def func(a):\n",
    "\tby_3 = a%3\n",
    "\tby_2 = a%2\n",
    "\tif(not by_2 and not by_3):\n",
    "  \t\tprint(a, \"is divisble by 2 and 3\")\n",
    "\telif not by_2:\n",
    "\t\tprint(a, \"is divisble by 2\")\n",
    "\telif not by_3:\n",
    "\t\tprint(a, \"is divisble by 3\")\n",
    "\telse:\n",
    "\t\tprint(a, \"is not divisible by 2 or 3\")\n",
    "\n",
    "\n",
    "for _ in range(10):\n",
    "\tvalue = randint(0,1000)\n",
    "\tfunc(value)"
   ]
  },
  {
   "cell_type": "markdown",
   "metadata": {
    "id": "e-65LGFdFQL1"
   },
   "source": [
    "4. Escriba un código para dado un entero del 1 al 7 imprima el dia de la semana. Ahora escriba tambien una solución que resuelva lo mismo pero no use ningun if"
   ]
  },
  {
   "cell_type": "code",
   "execution_count": 100,
   "metadata": {
    "id": "3qYN4_qdFQL2"
   },
   "outputs": [
    {
     "name": "stdout",
     "output_type": "stream",
     "text": [
      "9 Not a day\n",
      "4 Thursday\n",
      "6 Saturday\n",
      "4 Thursday\n",
      "4 Thursday\n",
      "8 Not a day\n",
      "5 Friday\n",
      "1 Monday\n",
      "7 Sunday\n",
      "9 Not a day\n"
     ]
    }
   ],
   "source": [
    "def days(i: int) -> str:\n",
    "    m = {1: \"Monday\", 2: \"Tuesday\", 3: \"Wednesday\", 4: \"Thursday\", 5: \"Friday\", 6: \"Saturday\", 7: \"Sunday\"}\n",
    "    return m.get(i, \"Not a day\")\n",
    "\n",
    "for _ in range(10):\n",
    "\tvalue = randint(1,9)\n",
    "\tprint(value, days(value))"
   ]
  },
  {
   "cell_type": "markdown",
   "metadata": {
    "id": "3R06nn_-FQL2"
   },
   "source": [
    "## Ejercicios con Ciclos\n",
    "referencias: https://www.w3schools.com/python/python_for_loops.asp"
   ]
  },
  {
   "cell_type": "markdown",
   "metadata": {
    "id": "7H_y477rFQL2"
   },
   "source": [
    "5. Escriba un codigo que imprima los numeros del uno al 10 un numero por linea."
   ]
  },
  {
   "cell_type": "code",
   "execution_count": 83,
   "metadata": {
    "id": "7GRmpq54FQL3"
   },
   "outputs": [
    {
     "name": "stdout",
     "output_type": "stream",
     "text": [
      "1\n",
      "2\n",
      "3\n",
      "4\n",
      "5\n",
      "6\n",
      "7\n",
      "8\n",
      "9\n",
      "10\n"
     ]
    }
   ],
   "source": [
    "for i in range(1, 11):\n",
    "    print(i)"
   ]
  },
  {
   "cell_type": "markdown",
   "metadata": {
    "id": "COMN-MOYFQL3"
   },
   "source": [
    "6. Imprima lo mismo del ejercicio anterior pero usando for y range.\n",
    "\n"
   ]
  },
  {
   "cell_type": "code",
   "execution_count": 84,
   "metadata": {
    "id": "VCiLym_1FQL3"
   },
   "outputs": [
    {
     "name": "stdout",
     "output_type": "stream",
     "text": [
      "1\n",
      "2\n",
      "3\n",
      "4\n",
      "5\n",
      "6\n",
      "7\n",
      "8\n",
      "9\n",
      "10\n"
     ]
    }
   ],
   "source": [
    "for i in range(1, 11):\n",
    "    print(i)"
   ]
  },
  {
   "cell_type": "markdown",
   "metadata": {
    "id": "p69i6TC4FQL3"
   },
   "source": [
    "7. Guarde en una lista todos los numeros menores a 100 que sean pares"
   ]
  },
  {
   "cell_type": "code",
   "execution_count": 85,
   "metadata": {
    "id": "Xn-9IQArFQL4"
   },
   "outputs": [
    {
     "name": "stdout",
     "output_type": "stream",
     "text": [
      "[0, 2, 4, 6, 8, 10, 12, 14, 16, 18, 20, 22, 24, 26, 28, 30, 32, 34, 36, 38, 40, 42, 44, 46, 48, 50, 52, 54, 56, 58, 60, 62, 64, 66, 68, 70, 72, 74, 76, 78, 80, 82, 84, 86, 88, 90, 92, 94, 96, 98, 100]\n"
     ]
    }
   ],
   "source": [
    "numeros_pares_menores_a_100 = []\n",
    "\n",
    "for i in range(0, 101):\n",
    "    if not i%2:\n",
    "         numeros_pares_menores_a_100.append(i)\n",
    "        \n",
    "# Imprimo los numeros pares menores a 100 \n",
    "print(numeros_pares_menores_a_100)"
   ]
  },
  {
   "cell_type": "markdown",
   "metadata": {
    "id": "Neo-tf0bFQL4"
   },
   "source": [
    "8. Calcule todos los divisores de un número $n$. Pruebe distintos valores para la variable $n$. Pruebe escribirlos con un $while$ y con un $for$"
   ]
  },
  {
   "cell_type": "code",
   "execution_count": 86,
   "metadata": {
    "id": "WGx9fN7MFQL4"
   },
   "outputs": [
    {
     "name": "stdout",
     "output_type": "stream",
     "text": [
      "[1, 2, 3, 4, 6, 12]\n"
     ]
    }
   ],
   "source": [
    "n = 12\n",
    "lista_de_divisores_while = []\n",
    "i = 1\n",
    "\n",
    "while i <= n:\n",
    "  if not n%i:\n",
    "    lista_de_divisores_while.append(i)\n",
    "  i += 1\n",
    "\n",
    "# Imprimo los divisores de a 1 \n",
    "print(lista_de_divisores_while)"
   ]
  },
  {
   "cell_type": "code",
   "execution_count": 87,
   "metadata": {
    "id": "RFGjH1s9gKvJ"
   },
   "outputs": [
    {
     "name": "stdout",
     "output_type": "stream",
     "text": [
      "[1, 3, 41, 123]\n"
     ]
    }
   ],
   "source": [
    "n = 123\n",
    "lista_de_divisores_for = []\n",
    "\n",
    "for i in range(1,n+1):\n",
    "    if not n%i:\n",
    "        lista_de_divisores_for.append(i)\n",
    "\n",
    "# Imprimo los divisores de a 1 \n",
    "print(lista_de_divisores_for)"
   ]
  },
  {
   "cell_type": "markdown",
   "metadata": {
    "id": "sGXocW-ZFQL4"
   },
   "source": [
    "9. Imprima por pantalla todos los numeros primos menos a $n$, pruebe con diferentes valores de $n$"
   ]
  },
  {
   "cell_type": "code",
   "execution_count": 88,
   "metadata": {
    "id": "qq2mYs3CFQL4"
   },
   "outputs": [
    {
     "name": "stdout",
     "output_type": "stream",
     "text": [
      "[2, 3, 5, 7, 11, 13, 17, 19, 23, 29, 31, 37, 41, 43, 47, 53, 59, 61, 67, 71, 73, 79, 83, 89, 97]\n"
     ]
    }
   ],
   "source": [
    "num = 100\n",
    "list_prim = []\n",
    "\n",
    "for i in range(1, num):\n",
    "    lista_de_divisores = []\n",
    "\n",
    "    for j in range(1,i+1):\n",
    "        if not i%j:\n",
    "            lista_de_divisores.append(i) \n",
    "    \n",
    "    if len(lista_de_divisores) == 2:\n",
    "        list_prim.append(i)\n",
    "\n",
    "print(list_prim)"
   ]
  },
  {
   "cell_type": "markdown",
   "metadata": {
    "id": "tGPc-zTAFQL5"
   },
   "source": [
    "## Ejercicios con funciones\n",
    "Algunos de los siguientes ejercicios fueron tomados de diferentes recursos como: \n",
    "* https://github.com/zhiwehu/Python-programming-exercises/blob/master/100%2B%20Python%20challenging%20programming%20exercises.txt\n",
    "* https://github.com/darkprinx/100-plus-Python-programming-exercises-extended\n",
    "* https://projecteuler.net/"
   ]
  },
  {
   "cell_type": "markdown",
   "metadata": {
    "id": "fLjA79YcFQL5"
   },
   "source": [
    "10. Encapsule las funciones de los ejercicios 8 y 9 de modo que tomen el parámetro $n$. Experimente con diferentes parámetros"
   ]
  },
  {
   "cell_type": "code",
   "execution_count": 89,
   "metadata": {
    "id": "j74MiWEZFQL5"
   },
   "outputs": [
    {
     "name": "stdout",
     "output_type": "stream",
     "text": [
      "[1, 2, 3, 4, 6, 12]\n",
      "[2, 3, 5, 7, 11, 13, 17, 19, 23]\n"
     ]
    }
   ],
   "source": [
    "from math import sqrt\n",
    "\n",
    "\n",
    "def calc_divisors(a):\n",
    "    divisors = []\n",
    "    for i in range(1,a+1):\n",
    "        if a%i == 0 :\n",
    "            divisors.append(i)\n",
    "    return divisors\n",
    "\n",
    "print(calc_divisors(12))\n",
    "\n",
    "def get_all_primes(n):\n",
    "    primes = []\n",
    "    for i in range(1, n+1):\n",
    "        divs = calc_divisors(i)\n",
    "        if len(divs) == 2:\n",
    "            primes.append(i)\n",
    "    return primes\n",
    "\n",
    "print(get_all_primes(28))\n",
    "\n"
   ]
  },
  {
   "cell_type": "markdown",
   "metadata": {
    "id": "kDiBB7ggFQL5"
   },
   "source": [
    "11. Escriba una funcion que calcule todos los numeros divisibles por 7 pero no multiplos de 5 entre 1000 y 5000.\n",
    "\n",
    "La funcion debe devolver una lista con estos numeros\n",
    "Hints: Puede usar la funcion range(desde,hasta)\n"
   ]
  },
  {
   "cell_type": "code",
   "execution_count": 90,
   "metadata": {
    "id": "T7eY6bSh_Txu"
   },
   "outputs": [
    {
     "name": "stdout",
     "output_type": "stream",
     "text": [
      "1000\n",
      "1005\n",
      "1010\n",
      "1020\n",
      "1025\n",
      "1030\n",
      "1035\n",
      "1040\n",
      "1045\n",
      "1055\n",
      "1060\n",
      "1065\n",
      "1070\n",
      "1075\n",
      "1080\n",
      "1090\n",
      "1095\n",
      "1100\n",
      "1105\n",
      "1110\n",
      "1115\n",
      "1125\n",
      "1130\n",
      "1135\n",
      "1140\n",
      "1145\n",
      "1150\n",
      "1160\n",
      "1165\n",
      "1170\n",
      "1175\n",
      "1180\n",
      "1185\n",
      "1195\n",
      "1200\n",
      "1205\n",
      "1210\n",
      "1215\n",
      "1220\n",
      "1230\n",
      "1235\n",
      "1240\n",
      "1245\n",
      "1250\n",
      "1255\n",
      "1265\n",
      "1270\n",
      "1275\n",
      "1280\n",
      "1285\n",
      "1290\n",
      "1300\n",
      "1305\n",
      "1310\n",
      "1315\n",
      "1320\n",
      "1325\n",
      "1335\n",
      "1340\n",
      "1345\n",
      "1350\n",
      "1355\n",
      "1360\n",
      "1370\n",
      "1375\n",
      "1380\n",
      "1385\n",
      "1390\n",
      "1395\n",
      "1405\n",
      "1410\n",
      "1415\n",
      "1420\n",
      "1425\n",
      "1430\n",
      "1440\n",
      "1445\n",
      "1450\n",
      "1455\n",
      "1460\n",
      "1465\n",
      "1475\n",
      "1480\n",
      "1485\n",
      "1490\n",
      "1495\n",
      "1500\n",
      "1510\n",
      "1515\n",
      "1520\n",
      "1525\n",
      "1530\n",
      "1535\n",
      "1545\n",
      "1550\n",
      "1555\n",
      "1560\n",
      "1565\n",
      "1570\n",
      "1580\n",
      "1585\n",
      "1590\n",
      "1595\n",
      "1600\n",
      "1605\n",
      "1615\n",
      "1620\n",
      "1625\n",
      "1630\n",
      "1635\n",
      "1640\n",
      "1650\n",
      "1655\n",
      "1660\n",
      "1665\n",
      "1670\n",
      "1675\n",
      "1685\n",
      "1690\n",
      "1695\n",
      "1700\n",
      "1705\n",
      "1710\n",
      "1720\n",
      "1725\n",
      "1730\n",
      "1735\n",
      "1740\n",
      "1745\n",
      "1755\n",
      "1760\n",
      "1765\n",
      "1770\n",
      "1775\n",
      "1780\n",
      "1790\n",
      "1795\n",
      "1800\n",
      "1805\n",
      "1810\n",
      "1815\n",
      "1825\n",
      "1830\n",
      "1835\n",
      "1840\n",
      "1845\n",
      "1850\n",
      "1860\n",
      "1865\n",
      "1870\n",
      "1875\n",
      "1880\n",
      "1885\n",
      "1895\n",
      "1900\n",
      "1905\n",
      "1910\n",
      "1915\n",
      "1920\n",
      "1930\n",
      "1935\n",
      "1940\n",
      "1945\n",
      "1950\n",
      "1955\n",
      "1965\n",
      "1970\n",
      "1975\n",
      "1980\n",
      "1985\n",
      "1990\n",
      "2000\n",
      "2005\n",
      "2010\n",
      "2015\n",
      "2020\n",
      "2025\n",
      "2035\n",
      "2040\n",
      "2045\n",
      "2050\n",
      "2055\n",
      "2060\n",
      "2070\n",
      "2075\n",
      "2080\n",
      "2085\n",
      "2090\n",
      "2095\n",
      "2105\n",
      "2110\n",
      "2115\n",
      "2120\n",
      "2125\n",
      "2130\n",
      "2140\n",
      "2145\n",
      "2150\n",
      "2155\n",
      "2160\n",
      "2165\n",
      "2175\n",
      "2180\n",
      "2185\n",
      "2190\n",
      "2195\n",
      "2200\n",
      "2210\n",
      "2215\n",
      "2220\n",
      "2225\n",
      "2230\n",
      "2235\n",
      "2245\n",
      "2250\n",
      "2255\n",
      "2260\n",
      "2265\n",
      "2270\n",
      "2280\n",
      "2285\n",
      "2290\n",
      "2295\n",
      "2300\n",
      "2305\n",
      "2315\n",
      "2320\n",
      "2325\n",
      "2330\n",
      "2335\n",
      "2340\n",
      "2350\n",
      "2355\n",
      "2360\n",
      "2365\n",
      "2370\n",
      "2375\n",
      "2385\n",
      "2390\n",
      "2395\n",
      "2400\n",
      "2405\n",
      "2410\n",
      "2420\n",
      "2425\n",
      "2430\n",
      "2435\n",
      "2440\n",
      "2445\n",
      "2455\n",
      "2460\n",
      "2465\n",
      "2470\n",
      "2475\n",
      "2480\n",
      "2490\n",
      "2495\n",
      "2500\n",
      "2505\n",
      "2510\n",
      "2515\n",
      "2525\n",
      "2530\n",
      "2535\n",
      "2540\n",
      "2545\n",
      "2550\n",
      "2560\n",
      "2565\n",
      "2570\n",
      "2575\n",
      "2580\n",
      "2585\n",
      "2595\n",
      "2600\n",
      "2605\n",
      "2610\n",
      "2615\n",
      "2620\n",
      "2630\n",
      "2635\n",
      "2640\n",
      "2645\n",
      "2650\n",
      "2655\n",
      "2665\n",
      "2670\n",
      "2675\n",
      "2680\n",
      "2685\n",
      "2690\n",
      "2700\n",
      "2705\n",
      "2710\n",
      "2715\n",
      "2720\n",
      "2725\n",
      "2735\n",
      "2740\n",
      "2745\n",
      "2750\n",
      "2755\n",
      "2760\n",
      "2770\n",
      "2775\n",
      "2780\n",
      "2785\n",
      "2790\n",
      "2795\n",
      "2805\n",
      "2810\n",
      "2815\n",
      "2820\n",
      "2825\n",
      "2830\n",
      "2840\n",
      "2845\n",
      "2850\n",
      "2855\n",
      "2860\n",
      "2865\n",
      "2875\n",
      "2880\n",
      "2885\n",
      "2890\n",
      "2895\n",
      "2900\n",
      "2910\n",
      "2915\n",
      "2920\n",
      "2925\n",
      "2930\n",
      "2935\n",
      "2945\n",
      "2950\n",
      "2955\n",
      "2960\n",
      "2965\n",
      "2970\n",
      "2980\n",
      "2985\n",
      "2990\n",
      "2995\n",
      "3000\n",
      "3005\n",
      "3015\n",
      "3020\n",
      "3025\n",
      "3030\n",
      "3035\n",
      "3040\n",
      "3050\n",
      "3055\n",
      "3060\n",
      "3065\n",
      "3070\n",
      "3075\n",
      "3085\n",
      "3090\n",
      "3095\n",
      "3100\n",
      "3105\n",
      "3110\n",
      "3120\n",
      "3125\n",
      "3130\n",
      "3135\n",
      "3140\n",
      "3145\n",
      "3155\n",
      "3160\n",
      "3165\n",
      "3170\n",
      "3175\n",
      "3180\n",
      "3190\n",
      "3195\n",
      "3200\n",
      "3205\n",
      "3210\n",
      "3215\n",
      "3225\n",
      "3230\n",
      "3235\n",
      "3240\n",
      "3245\n",
      "3250\n",
      "3260\n",
      "3265\n",
      "3270\n",
      "3275\n",
      "3280\n",
      "3285\n",
      "3295\n",
      "3300\n",
      "3305\n",
      "3310\n",
      "3315\n",
      "3320\n",
      "3330\n",
      "3335\n",
      "3340\n",
      "3345\n",
      "3350\n",
      "3355\n",
      "3365\n",
      "3370\n",
      "3375\n",
      "3380\n",
      "3385\n",
      "3390\n",
      "3400\n",
      "3405\n",
      "3410\n",
      "3415\n",
      "3420\n",
      "3425\n",
      "3435\n",
      "3440\n",
      "3445\n",
      "3450\n",
      "3455\n",
      "3460\n",
      "3470\n",
      "3475\n",
      "3480\n",
      "3485\n",
      "3490\n",
      "3495\n",
      "3505\n",
      "3510\n",
      "3515\n",
      "3520\n",
      "3525\n",
      "3530\n",
      "3540\n",
      "3545\n",
      "3550\n",
      "3555\n",
      "3560\n",
      "3565\n",
      "3575\n",
      "3580\n",
      "3585\n",
      "3590\n",
      "3595\n",
      "3600\n",
      "3610\n",
      "3615\n",
      "3620\n",
      "3625\n",
      "3630\n",
      "3635\n",
      "3645\n",
      "3650\n",
      "3655\n",
      "3660\n",
      "3665\n",
      "3670\n",
      "3680\n",
      "3685\n",
      "3690\n",
      "3695\n",
      "3700\n",
      "3705\n",
      "3715\n",
      "3720\n",
      "3725\n",
      "3730\n",
      "3735\n",
      "3740\n",
      "3750\n",
      "3755\n",
      "3760\n",
      "3765\n",
      "3770\n",
      "3775\n",
      "3785\n",
      "3790\n",
      "3795\n",
      "3800\n",
      "3805\n",
      "3810\n",
      "3820\n",
      "3825\n",
      "3830\n",
      "3835\n",
      "3840\n",
      "3845\n",
      "3855\n",
      "3860\n",
      "3865\n",
      "3870\n",
      "3875\n",
      "3880\n",
      "3890\n",
      "3895\n",
      "3900\n",
      "3905\n",
      "3910\n",
      "3915\n",
      "3925\n",
      "3930\n",
      "3935\n",
      "3940\n",
      "3945\n",
      "3950\n",
      "3960\n",
      "3965\n",
      "3970\n",
      "3975\n",
      "3980\n",
      "3985\n",
      "3995\n",
      "4000\n",
      "4005\n",
      "4010\n",
      "4015\n",
      "4020\n",
      "4030\n",
      "4035\n",
      "4040\n",
      "4045\n",
      "4050\n",
      "4055\n",
      "4065\n",
      "4070\n",
      "4075\n",
      "4080\n",
      "4085\n",
      "4090\n",
      "4100\n",
      "4105\n",
      "4110\n",
      "4115\n",
      "4120\n",
      "4125\n",
      "4135\n",
      "4140\n",
      "4145\n",
      "4150\n",
      "4155\n",
      "4160\n",
      "4170\n",
      "4175\n",
      "4180\n",
      "4185\n",
      "4190\n",
      "4195\n",
      "4205\n",
      "4210\n",
      "4215\n",
      "4220\n",
      "4225\n",
      "4230\n",
      "4240\n",
      "4245\n",
      "4250\n",
      "4255\n",
      "4260\n",
      "4265\n",
      "4275\n",
      "4280\n",
      "4285\n",
      "4290\n",
      "4295\n",
      "4300\n",
      "4310\n",
      "4315\n",
      "4320\n",
      "4325\n",
      "4330\n",
      "4335\n",
      "4345\n",
      "4350\n",
      "4355\n",
      "4360\n",
      "4365\n",
      "4370\n",
      "4380\n",
      "4385\n",
      "4390\n",
      "4395\n",
      "4400\n",
      "4405\n",
      "4415\n",
      "4420\n",
      "4425\n",
      "4430\n",
      "4435\n",
      "4440\n",
      "4450\n",
      "4455\n",
      "4460\n",
      "4465\n",
      "4470\n",
      "4475\n",
      "4485\n",
      "4490\n",
      "4495\n",
      "4500\n",
      "4505\n",
      "4510\n",
      "4520\n",
      "4525\n",
      "4530\n",
      "4535\n",
      "4540\n",
      "4545\n",
      "4555\n",
      "4560\n",
      "4565\n",
      "4570\n",
      "4575\n",
      "4580\n",
      "4590\n",
      "4595\n",
      "4600\n",
      "4605\n",
      "4610\n",
      "4615\n",
      "4625\n",
      "4630\n",
      "4635\n",
      "4640\n",
      "4645\n",
      "4650\n",
      "4660\n",
      "4665\n",
      "4670\n",
      "4675\n",
      "4680\n",
      "4685\n",
      "4695\n",
      "4700\n",
      "4705\n",
      "4710\n",
      "4715\n",
      "4720\n",
      "4730\n",
      "4735\n",
      "4740\n",
      "4745\n",
      "4750\n",
      "4755\n",
      "4765\n",
      "4770\n",
      "4775\n",
      "4780\n",
      "4785\n",
      "4790\n",
      "4800\n",
      "4805\n",
      "4810\n",
      "4815\n",
      "4820\n",
      "4825\n",
      "4835\n",
      "4840\n",
      "4845\n",
      "4850\n",
      "4855\n",
      "4860\n",
      "4870\n",
      "4875\n",
      "4880\n",
      "4885\n",
      "4890\n",
      "4895\n",
      "4905\n",
      "4910\n",
      "4915\n",
      "4920\n",
      "4925\n",
      "4930\n",
      "4940\n",
      "4945\n",
      "4950\n",
      "4955\n",
      "4960\n",
      "4965\n",
      "4975\n",
      "4980\n",
      "4985\n",
      "4990\n",
      "4995\n",
      "5000\n"
     ]
    }
   ],
   "source": [
    "def is_multiply(n: int, div: int) -> bool:\n",
    "  return not n%div\n",
    "\n",
    "def print_div_vals(min: int, max: int) -> list:\n",
    "  for i in range(min, max + 1):\n",
    "    if is_multiply(i, 5) and not is_multiply(i, 7):\n",
    "      print(i)\n",
    "\n",
    "print_div_vals(1000, 5000)"
   ]
  },
  {
   "cell_type": "markdown",
   "metadata": {
    "id": "y4Bv_lUXFQL5"
   },
   "source": [
    "12. Haga una función que calcule el factorial de un numero $n$"
   ]
  },
  {
   "cell_type": "code",
   "execution_count": 91,
   "metadata": {
    "id": "T3H80rS7FQL5"
   },
   "outputs": [
    {
     "name": "stdout",
     "output_type": "stream",
     "text": [
      "120\n"
     ]
    }
   ],
   "source": [
    "def fac(n):\n",
    "    if n == 0:\n",
    "        return 1\n",
    "    else:\n",
    "        return n * fac(n-1)\n",
    "\n",
    "print(fac(5))"
   ]
  },
  {
   "cell_type": "markdown",
   "metadata": {
    "id": "WznC2GUtFQL6"
   },
   "source": [
    "13. Escriba una función que devuelva un diccionario donde las claves sean los numeros del 1 al $n$ (con $n$ parametro de la función) y en el significado de cada clave este guardado el cuadrado de ese numero.\n",
    "\n",
    "Por ejemplo si a la función le entra un 4 la funcion debe devolver {1:1,2:4,3:9,4:16}"
   ]
  },
  {
   "cell_type": "code",
   "execution_count": 92,
   "metadata": {
    "id": "BTawbcjQFQL6"
   },
   "outputs": [
    {
     "name": "stdout",
     "output_type": "stream",
     "text": [
      "{1: 1, 2: 4, 3: 9, 4: 16}\n"
     ]
    }
   ],
   "source": [
    "def func_sq(n: int) -> dict:\n",
    "  result = {}\n",
    "  for i in range(1, n+1):\n",
    "    result[i] = i**2\n",
    "  return result\n",
    "\n",
    "print(func_sq(4))"
   ]
  },
  {
   "cell_type": "markdown",
   "metadata": {
    "id": "YuzBKZ-BFQL6"
   },
   "source": [
    "14. Escriba una función que tome una lista de enteros y devuelva una lista de lista, donde cada lista contenga los divisores del numero correspondiente.\n",
    "\n",
    "Por ejemplo si función toma como entrada [3,6,12,11], la salida debe ser [[1,3],[1,2,3,6],[1,2,3,6,12],[1,11]]"
   ]
  },
  {
   "cell_type": "code",
   "execution_count": 93,
   "metadata": {
    "id": "fOwkP7seFQL6"
   },
   "outputs": [
    {
     "name": "stdout",
     "output_type": "stream",
     "text": [
      "[[1, 3], [1, 2, 3, 6], [1, 2, 3, 4, 6, 12], [1, 11]]\n"
     ]
    }
   ],
   "source": [
    "def lista_de_divisores(n):\n",
    "  return calc_divisors(n)\n",
    "\n",
    "def func_div(li: list) -> list:\n",
    "  return list(map(lambda x: lista_de_divisores(x), li))\n",
    "\n",
    "print(func_div([3,6,12,11]))"
   ]
  },
  {
   "cell_type": "markdown",
   "metadata": {
    "id": "FXDWsbdxFQL6"
   },
   "source": [
    "15. Escriba una función que tome un numero entero y devuelva una lista con tuplas con los numeros primos que lo dividen y la cantidad de veces que el numero primo lo divide.\n",
    "\n",
    "Por ejemplo, si entra el número 2223000 la función debe devolver: [(2,3),(3,2),(13,1),(19,1)] pues $2^3 \\times 3^2 \\times 13^1 \\times 19^1 = 2223000$"
   ]
  },
  {
   "cell_type": "code",
   "execution_count": 94,
   "metadata": {
    "id": "hi1chKrCFQL6"
   },
   "outputs": [],
   "source": [
    "\"\"\"\n",
    "Esto es una tupla en python, puede tener una cantidad fija \n",
    "pero arbitraria de elementos (es decir puede ser tan grande\n",
    "como se quiera pero no puede mutar)\"\"\"\n",
    "tupla = (3,6) "
   ]
  },
  {
   "cell_type": "code",
   "execution_count": 95,
   "metadata": {
    "id": "Fr62PgMTHCp1"
   },
   "outputs": [
    {
     "name": "stdout",
     "output_type": "stream",
     "text": [
      "[(2, 3), (3, 1), (5, 2)]\n"
     ]
    }
   ],
   "source": [
    "def getPrimeFactor(inputVal:int) -> list:\n",
    "  result = []\n",
    "  primes = get_all_primes(inputVal)\n",
    "  idx = 0\n",
    "  counter = 0\n",
    "  curr = inputVal\n",
    "  while idx < len(primes):\n",
    "    if curr%primes[idx] == 0:\n",
    "      curr = curr/primes[idx]\n",
    "      counter += 1\n",
    "    else:\n",
    "      if counter != 0:\n",
    "        result.append((primes[idx], counter))\n",
    "      idx = idx + 1\n",
    "      counter = 0\n",
    "  return result\n",
    "\n",
    "print(getPrimeFactor(600))"
   ]
  },
  {
   "cell_type": "markdown",
   "metadata": {
    "id": "gFcGTx0NFQL6"
   },
   "source": [
    "16. Un número palíndromo se lee del derecho y el reves de la misma forma. El palindrome hecho por el producto de dos numeros de dos digitos mas grande es 9009 pues es producto de $91*99$\n",
    "\n",
    "Escriba un código para crear el palindromo más grande hecho por el pruducto de 2 numeros de 3 digitos\n",
    "\n",
    "Nota: Este ejercicio fue tomado de: https://projecteuler.net/problem=4\n"
   ]
  },
  {
   "cell_type": "code",
   "execution_count": 96,
   "metadata": {
    "id": "WgotEi_rFQL7"
   },
   "outputs": [
    {
     "name": "stdout",
     "output_type": "stream",
     "text": [
      "(999, 91, 90909)\n"
     ]
    }
   ],
   "source": [
    "def is_palyndrome(x):\n",
    "    return all(a == b for a, b in zip(str(x), reversed(str(x))))\n",
    "\n",
    "def foo_2(n):\n",
    "    for i in range(n, 0, -1):\n",
    "        for j in range(n,0, -1):\n",
    "            if is_palyndrome(i*j):\n",
    "                return (i, j, i*j)\n",
    "\n",
    "print(foo_2(1000))\n",
    "\n"
   ]
  },
  {
   "cell_type": "markdown",
   "metadata": {
    "id": "e_30k7tbFQL7"
   },
   "source": [
    "17. Escriba una función que devuelve el $i-esimo$ número de la sucesión de Fibonacci  (https://en.wikipedia.org/wiki/Fibonacci_number)"
   ]
  },
  {
   "cell_type": "code",
   "execution_count": 97,
   "metadata": {
    "id": "hKZjzKG_FQL7"
   },
   "outputs": [
    {
     "name": "stdout",
     "output_type": "stream",
     "text": [
      "[1, 1, 2, 3, 5, 8, 13, 21, 34, 55]\n"
     ]
    }
   ],
   "source": [
    "def fibo(n: int):\n",
    "  if n == 0 or n == 1:\n",
    "    return 1\n",
    "  else:\n",
    "    return fibo(n-1) + fibo(n-2)\n",
    "\n",
    "print([fibo(num) for num in range(0,10)])"
   ]
  }
 ],
 "metadata": {
  "colab": {
   "collapsed_sections": [],
   "name": "AdA_01_Python_Basics_b.ipynb",
   "provenance": [],
   "toc_visible": true
  },
  "kernelspec": {
   "display_name": "Python 3 (ipykernel)",
   "language": "python",
   "name": "python3"
  },
  "language_info": {
   "codemirror_mode": {
    "name": "ipython",
    "version": 3
   },
   "file_extension": ".py",
   "mimetype": "text/x-python",
   "name": "python",
   "nbconvert_exporter": "python",
   "pygments_lexer": "ipython3",
   "version": "3.10.6"
  }
 },
 "nbformat": 4,
 "nbformat_minor": 1
}
